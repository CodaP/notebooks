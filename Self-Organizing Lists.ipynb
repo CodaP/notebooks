{
 "cells": [
  {
   "cell_type": "code",
   "execution_count": 1,
   "metadata": {
    "collapsed": false
   },
   "outputs": [],
   "source": [
    "import pandas as pd\n",
    "import numpy as np\n",
    "import itertools\n",
    "import collections"
   ]
  },
  {
   "cell_type": "code",
   "execution_count": 2,
   "metadata": {
    "collapsed": false
   },
   "outputs": [],
   "source": [
    "class LinkedList:\n",
    "    def __init__(self):\n",
    "        self.head = None\n",
    "        self.work = 0\n",
    "        \n",
    "    def push(self,item):\n",
    "        self.head = [item,self.head]\n",
    "        self.work += 1\n",
    "        \n",
    "    def pop(self):\n",
    "        popped,self.head = self.head\n",
    "        self.work += 1\n",
    "        return popped\n",
    "    \n",
    "    def insert(self,item,index):\n",
    "        self.work += 1\n",
    "        if index == 0:\n",
    "            self.head = (item,self.head)\n",
    "        else:\n",
    "            parent_node = self.get(index-1)\n",
    "            parent_node[1] = [item,parent_node[1]]\n",
    "            \n",
    "                \n",
    "    def get(self,index):\n",
    "        node = self.head\n",
    "        self.work += 1\n",
    "        for i in xrange(index):\n",
    "            self.work += 1\n",
    "            _,node = node\n",
    "        return node\n",
    "    \n",
    "    def _search(self, item):\n",
    "        node= self.head\n",
    "        self.work += 1\n",
    "        index = 0\n",
    "        while node is not None:\n",
    "            if node[0] == item:\n",
    "                return node,index\n",
    "            _,node = node\n",
    "            index += 1\n",
    "        return None,None\n",
    "    \n",
    "    def search_index(self, item):\n",
    "        node,index = self._search(item)\n",
    "        \n",
    "    def search_node(self, item):\n",
    "        node,index = self._search(item)\n",
    "    \n",
    "    def remove(self, index):\n",
    "        if index == 0:\n",
    "            self.work += 1\n",
    "            _, self.head = self.head\n",
    "        else:\n",
    "            parent_node = self.get(index-1)\n",
    "            parent_node[1] = parent_node[1][1]\n",
    "            \n",
    "    def append(self,item):\n",
    "        if self.head == None:\n",
    "            self.push(item)\n",
    "        else:\n",
    "            node = self.head\n",
    "            while node[1] is not None:\n",
    "                _,node = node\n",
    "                self.work += 1\n",
    "            node[1] = [item,None]\n",
    "        self.work += 1\n",
    "    \n",
    "    def __repr__(self):\n",
    "        node = self.head\n",
    "        items = []\n",
    "        while node is not None:\n",
    "            item,node = node\n",
    "            items.append(str(item))\n",
    "        return ' -> '.join(items)"
   ]
  },
  {
   "cell_type": "code",
   "execution_count": 3,
   "metadata": {
    "collapsed": false
   },
   "outputs": [
    {
     "data": {
      "text/plain": [
       "1 -> 2 -> 3"
      ]
     },
     "execution_count": 3,
     "metadata": {},
     "output_type": "execute_result"
    }
   ],
   "source": [
    "a = LinkedList()\n",
    "a.append(1)\n",
    "a.append(2)\n",
    "a.append(3)\n",
    "a.get(0)\n",
    "a.insert(5,2)\n",
    "a.remove(2)\n",
    "a"
   ]
  },
  {
   "cell_type": "markdown",
   "metadata": {},
   "source": [
    "# Part 2"
   ]
  },
  {
   "cell_type": "markdown",
   "metadata": {},
   "source": [
    "## Move to Front\n",
    "This technique moves the element which is accessed to the head of the list."
   ]
  },
  {
   "cell_type": "code",
   "execution_count": 10,
   "metadata": {
    "collapsed": true
   },
   "outputs": [],
   "source": [
    "class MoveToFrontList(LinkedList):\n",
    "    def move_to_front(self,item):\n",
    "        node = self.head\n",
    "        if node[0] == item:\n",
    "            return node[0]\n",
    "        while node is not None:\n",
    "            if node[0] == item:\n",
    "                parent[1] = node[1]\n",
    "                self.push(node[0])\n",
    "                return node[0]\n",
    "            parent = node\n",
    "            node = node[1]\n",
    "            "
   ]
  },
  {
   "cell_type": "code",
   "execution_count": 21,
   "metadata": {
    "collapsed": false
   },
   "outputs": [
    {
     "data": {
      "text/plain": [
       "1 -> 2 -> 3"
      ]
     },
     "execution_count": 21,
     "metadata": {},
     "output_type": "execute_result"
    }
   ],
   "source": [
    "a = MoveToFrontList()\n",
    "a.append(1)\n",
    "a.append(2)\n",
    "a.append(3)\n",
    "a"
   ]
  },
  {
   "cell_type": "code",
   "execution_count": 22,
   "metadata": {
    "collapsed": false
   },
   "outputs": [
    {
     "data": {
      "text/plain": [
       "3 -> 1 -> 2"
      ]
     },
     "execution_count": 22,
     "metadata": {},
     "output_type": "execute_result"
    }
   ],
   "source": [
    "a.move_to_front(3)\n",
    "a"
   ]
  },
  {
   "cell_type": "code",
   "execution_count": 23,
   "metadata": {
    "collapsed": false
   },
   "outputs": [
    {
     "data": {
      "text/plain": [
       "2 -> 3 -> 1"
      ]
     },
     "execution_count": 23,
     "metadata": {},
     "output_type": "execute_result"
    }
   ],
   "source": [
    "a.move_to_front(2)\n",
    "a"
   ]
  },
  {
   "cell_type": "code",
   "execution_count": 24,
   "metadata": {
    "collapsed": false
   },
   "outputs": [
    {
     "data": {
      "text/plain": [
       "3 -> 2 -> 1"
      ]
     },
     "execution_count": 24,
     "metadata": {},
     "output_type": "execute_result"
    }
   ],
   "source": [
    "a.move_to_front(3)\n",
    "a"
   ]
  },
  {
   "cell_type": "markdown",
   "metadata": {},
   "source": [
    "## Count Method\n",
    "In this technique, the number of times each node was searched for is counted i.e. every node keeps a separate counter variable which is incremented every time it is called. The nodes are then rearranged according to decreasing count."
   ]
  },
  {
   "cell_type": "code",
   "execution_count": 68,
   "metadata": {
    "collapsed": true
   },
   "outputs": [],
   "source": [
    "class CountList(LinkedList):\n",
    "        \n",
    "    def search(self, item):\n",
    "        node= self.head\n",
    "        self.work += 1\n",
    "        index = 0\n",
    "        while node is not None:\n",
    "            if node[0][0] == item:\n",
    "                node[0][1] += 1\n",
    "                self.remove(index)\n",
    "                self.add(node[0])\n",
    "                return \n",
    "            _,node = node\n",
    "            index += 1\n",
    "        \n",
    "    def add(self, new_node):\n",
    "        node = self.head\n",
    "        if node is None or new_node[1] > node[0][1]:\n",
    "            self.head = [new_node,node]\n",
    "            return\n",
    "        while node[1] is not None:\n",
    "            parent = node\n",
    "            _,node = node   \n",
    "            if new_node[1] > node[0][1]:\n",
    "                parent[1] = [new_node,parent[1]]\n",
    "                #print 'Adding {} after {}'.format(str(new_node),str(parent[0]))\n",
    "                return\n",
    "        #print 'Adding {} at end'.format(str(new_node))\n",
    "        node[1] = [new_node,None]"
   ]
  },
  {
   "cell_type": "code",
   "execution_count": 95,
   "metadata": {
    "collapsed": false
   },
   "outputs": [
    {
     "name": "stdout",
     "output_type": "stream",
     "text": [
      "Start:          [1, 0] -> [2, 0] -> [3, 0]\n",
      "Search 3:       [3, 1] -> [1, 0] -> [2, 0]\n",
      "Search 3 again: [3, 2] -> [1, 0] -> [2, 0]\n",
      "Search 2:       [3, 2] -> [2, 1] -> [1, 0]\n",
      "Search 2 again: [3, 2] -> [2, 2] -> [1, 0]\n",
      "Search 2 again: [2, 3] -> [3, 2] -> [1, 0]\n"
     ]
    }
   ],
   "source": [
    "a = CountList()\n",
    "a.add([1,0])\n",
    "a.add([2,0])\n",
    "a.add([3,0])\n",
    "print 'Start:         ',a\n",
    "a.search(3)\n",
    "print 'Search 3:      ',a\n",
    "a.search(3)\n",
    "print 'Search 3 again:',a\n",
    "a.search(2)\n",
    "print 'Search 2:      ',a\n",
    "a.search(2)\n",
    "print 'Search 2 again:',a\n",
    "a.search(2)\n",
    "print 'Search 2 again:',a"
   ]
  },
  {
   "cell_type": "markdown",
   "metadata": {},
   "source": [
    "## Transpose Method\n",
    "This technique involves swapping an accessed node with its predecessor. Therefore, if any node is accessed, it is swapped with the node in front unless it is the head node, thereby increasing its priority. "
   ]
  },
  {
   "cell_type": "code",
   "execution_count": 96,
   "metadata": {
    "collapsed": true
   },
   "outputs": [],
   "source": [
    "class TransposeList(LinkedList):\n",
    "    def search(self,item):\n",
    "        node = self.head\n",
    "        if node[0] == item:\n",
    "            return node\n",
    "        while node is not None:\n",
    "            if node[0] == item:\n",
    "                parent[0],node[0] = node[0],parent[0]\n",
    "                return parent\n",
    "            parent = node\n",
    "            _,node = node             "
   ]
  },
  {
   "cell_type": "code",
   "execution_count": 102,
   "metadata": {
    "collapsed": false
   },
   "outputs": [
    {
     "name": "stdout",
     "output_type": "stream",
     "text": [
      "Start:    1 -> 2 -> 3\n",
      "Search 3: 1 -> 3 -> 2\n",
      "Search 3: 3 -> 1 -> 2\n",
      "Search 1: 1 -> 3 -> 2\n"
     ]
    }
   ],
   "source": [
    "a = TransposeList()\n",
    "a.append(1)\n",
    "a.append(2)\n",
    "a.append(3)\n",
    "print 'Start:   ',a\n",
    "a.search(3)\n",
    "print 'Search 3:',a\n",
    "a.search(3)\n",
    "print 'Search 3:',a\n",
    "a.search(1)\n",
    "print 'Search 1:',a"
   ]
  },
  {
   "cell_type": "code",
   "execution_count": null,
   "metadata": {
    "collapsed": true
   },
   "outputs": [],
   "source": []
  }
 ],
 "metadata": {
  "kernelspec": {
   "display_name": "Python 2",
   "language": "python",
   "name": "python2"
  },
  "language_info": {
   "codemirror_mode": {
    "name": "ipython",
    "version": 2
   },
   "file_extension": ".py",
   "mimetype": "text/x-python",
   "name": "python",
   "nbconvert_exporter": "python",
   "pygments_lexer": "ipython2",
   "version": "2.7.9"
  }
 },
 "nbformat": 4,
 "nbformat_minor": 0
}
